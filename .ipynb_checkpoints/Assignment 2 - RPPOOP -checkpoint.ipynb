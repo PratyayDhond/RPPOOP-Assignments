{
 "cells": [
  {
   "cell_type": "code",
   "execution_count": 1,
   "id": "ffd54f45",
   "metadata": {},
   "outputs": [],
   "source": [
    "# Demonstration of polymorphism and types of polymorphisms with taking suitable example"
   ]
  },
  {
   "cell_type": "markdown",
   "id": "f1fd6414",
   "metadata": {},
   "source": [
    "#### Polymorphism in non-class methods"
   ]
  },
  {
   "cell_type": "markdown",
   "id": "0cf4d8d3",
   "metadata": {},
   "source": [
    "The following method depicts polymorphism in python as follows: <br>\n",
    "- it can work with two arguments   (firstName, lastName)<br>\n",
    "- it can work with three arguments (firstName, lastName, middleName)"
   ]
  },
  {
   "cell_type": "code",
   "execution_count": 12,
   "id": "0df54df8",
   "metadata": {},
   "outputs": [],
   "source": [
    "def fullName(firstName, lastName, middleName = \"\"):\n",
    "    return firstName + ' ' + middleName + ' ' + lastName;\n"
   ]
  },
  {
   "cell_type": "markdown",
   "id": "2f70f769",
   "metadata": {},
   "source": [
    "<b> Test case for above code</b>"
   ]
  },
  {
   "cell_type": "code",
   "execution_count": 16,
   "id": "f9d00c78",
   "metadata": {},
   "outputs": [
    {
     "name": "stdout",
     "output_type": "stream",
     "text": [
      "Pratyay Prasad Dhond\n",
      "Pratyay  Dhond\n"
     ]
    }
   ],
   "source": [
    "print(fullName(firstName = 'Pratyay', lastName = 'Dhond', middleName = 'Prasad'))\n",
    "print(fullName('Pratyay', 'Dhond'))"
   ]
  },
  {
   "cell_type": "markdown",
   "id": "53f1af19",
   "metadata": {},
   "source": [
    "### Polymorphism in class Methods\n",
    "\n",
    "- two classes 'Cat','Dog' which inherit the class Animal are using the same function makeSound in different ways\n",
    "    - makeSound for cat does -> purrs!\n",
    "    - makeSound for dog does -> woof!"
   ]
  },
  {
   "cell_type": "code",
   "execution_count": 4,
   "id": "f805c65b",
   "metadata": {},
   "outputs": [],
   "source": [
    "class Animal:\n",
    "    def __init__(self, name, sound):\n",
    "        self.name = name\n",
    "        self.sound = sound\n",
    "    \n",
    "    def makeSound(self):\n",
    "        pass\n",
    "\n",
    "class Cat(Animal):\n",
    "    def __init__(self,name,sound):\n",
    "        self.petName = name\n",
    "        super().__init__('Cat',sound)\n",
    "    def makeSound(self):\n",
    "        print(f' {self.petName} {self.sound}!')\n",
    "\n",
    "class Dog(Animal):\n",
    "    def __init__(self,name,sound):\n",
    "        self.petName = name\n",
    "        super().__init__('Dog',sound)\n",
    "    def makeSound(self):\n",
    "        print(f' {self.petName} makes sound \\'{self.sound}\\'!')\n"
   ]
  },
  {
   "cell_type": "markdown",
   "id": "5bdd82a7",
   "metadata": {},
   "source": [
    "#### Testcase for Dog"
   ]
  },
  {
   "cell_type": "code",
   "execution_count": 29,
   "id": "888dd06a",
   "metadata": {},
   "outputs": [
    {
     "name": "stdout",
     "output_type": "stream",
     "text": [
      " Rover makes sound 'woof'!\n"
     ]
    }
   ],
   "source": [
    "rover = Dog('Rover', 'woof')\n",
    "rover.makeSound()"
   ]
  },
  {
   "cell_type": "markdown",
   "id": "5d6c6994",
   "metadata": {},
   "source": [
    "#### Testcase for Cat"
   ]
  },
  {
   "cell_type": "code",
   "execution_count": 30,
   "id": "54df860c",
   "metadata": {},
   "outputs": [
    {
     "name": "stdout",
     "output_type": "stream",
     "text": [
      " Meowscles purrs!\n"
     ]
    }
   ],
   "source": [
    "meowscles = Cat('Meowscles', 'purrs')\n",
    "meowscles.makeSound()"
   ]
  }
 ],
 "metadata": {
  "kernelspec": {
   "display_name": "Python 3 (ipykernel)",
   "language": "python",
   "name": "python3"
  },
  "language_info": {
   "codemirror_mode": {
    "name": "ipython",
    "version": 3
   },
   "file_extension": ".py",
   "mimetype": "text/x-python",
   "name": "python",
   "nbconvert_exporter": "python",
   "pygments_lexer": "ipython3",
   "version": "3.10.9"
  }
 },
 "nbformat": 4,
 "nbformat_minor": 5
}
