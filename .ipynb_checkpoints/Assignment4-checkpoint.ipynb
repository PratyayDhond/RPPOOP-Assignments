{
 "cells": [
  {
   "cell_type": "markdown",
   "id": "26d36ebd",
   "metadata": {},
   "source": [
    "Assignment based  on tkinter: <br>\n",
    "    1. Write a program to display two labels with different colored background.<br>      "
   ]
  },
  {
   "attachments": {
    "image.png": {
     "image/png": "[encoded data removed]"
    }
   },
   "cell_type": "markdown",
   "id": "b2ad5db0",
   "metadata": {},
   "source": [
    "![image.png](attachment:image.png)"
   ]
  },
  {
   "cell_type": "code",
   "execution_count": 88,
   "id": "266966f1",
   "metadata": {},
   "outputs": [],
   "source": [
    "from tkinter import *\n",
    "\n",
    "tk = Tk()\n",
    "tk.geometry('600x300')\n",
    "tk.configure(bg='#2e2e2e')\n",
    "\n",
    "l1= Label(tk,text='Left Side',fg='#e2e2e2', font=('monospace',14),bg='#a2c57d')\n",
    "l1.pack(side='left',fill='both')\n",
    "\n",
    "l1= Label(tk,text='Right Side',fg='#332233', font=('monospace',14),bg='#d75c2a')\n",
    "l1.pack(side='right',fill='both')\n",
    "\n",
    "tk.mainloop()"
   ]
  },
  {
   "cell_type": "markdown",
   "id": "a02acca6",
   "metadata": {},
   "source": [
    " "
   ]
  },
  {
   "attachments": {
    "image-3.png": {
     "image/png": "[encoded data removed]"
    }
   },
   "cell_type": "markdown",
   "id": "c1043155",
   "metadata": {},
   "source": [
    "  2. Write a program to display a menu on the menu bar.\n",
    "  \n",
    "![image-3.png](attachment:image-3.png)"
   ]
  },
  {
   "cell_type": "code",
   "execution_count": 13,
   "id": "1b110e81",
   "metadata": {},
   "outputs": [],
   "source": [
    "from tkinter import *\n",
    "\n",
    "tk = Tk()\n",
    "menuBar = Menu(tk)\n",
    "selfHelpMenu = Menu(menuBar,tearoff=0)\n",
    "selfHelpMenu.add_command(label='Make Time')\n",
    "selfHelpMenu.add_command(label='The Little Book of Stoicism')\n",
    "menuBar.add_cascade(label='Self-Help',menu=selfHelpMenu)\n",
    "\n",
    "fictionMenu = Menu(menuBar, tearoff=0)\n",
    "fictionMenu.add_command(label='The Host')\n",
    "fictionMenu.add_command(label='The BooK Thief')\n",
    "menuBar.add_cascade(label='Fiction',menu=fictionMenu)\n",
    "tk.config(menu=menuBar)\n",
    "\n",
    "\n",
    "tk.mainloop()\n"
   ]
  }
 ],
 "metadata": {
  "kernelspec": {
   "display_name": "Python 3 (ipykernel)",
   "language": "python",
   "name": "python3"
  },
  "language_info": {
   "codemirror_mode": {
    "name": "ipython",
    "version": 3
   },
   "file_extension": ".py",
   "mimetype": "text/x-python",
   "name": "python",
   "nbconvert_exporter": "python",
   "pygments_lexer": "ipython3",
   "version": "3.10.9"
  }
 },
 "nbformat": 4,
 "nbformat_minor": 5
}
