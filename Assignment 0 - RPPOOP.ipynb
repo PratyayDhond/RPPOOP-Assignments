{
 "cells": [
  {
   "cell_type": "code",
   "execution_count": 40,
   "id": "f5f72d9c",
   "metadata": {},
   "outputs": [],
   "source": [
    "# Assignment 0 - Design and implement classes representing a polygon shape, and derived classes like\n",
    "# rectangle, and square with the same operations as mentioned in assignment above. Write\n",
    "# code to test your classes. \n"
   ]
  },
  {
   "cell_type": "code",
   "execution_count": 44,
   "id": "42aec105",
   "metadata": {},
   "outputs": [],
   "source": [
    "class Polygon:\n",
    "    def __init__(self):\n",
    "        self.name = \"\"\n",
    "        self.dimensions = 0\n",
    "        \n",
    "    def area(self):\n",
    "        pass\n",
    "    def perimeter(self):\n",
    "        pass\n",
    "    def changeDimension(self,dimensions):\n",
    "        self.dimensions = dimensions\n",
    "    def reportDimension(self):\n",
    "        return self.dimensions\n"
   ]
  },
  {
   "cell_type": "code",
   "execution_count": 95,
   "id": "43e1d1c8",
   "metadata": {},
   "outputs": [],
   "source": [
    "class Rectangle(Polygon):\n",
    "    def __init__(self,length,breadth,units=\"units\"):\n",
    "        self.name = \"Rectangle\"\n",
    "        self.dimensions = 2\n",
    "        self.units = units\n",
    "        self.length = length\n",
    "        self.breadth = breadth\n",
    "    \n",
    "    def area(self):\n",
    "        return self.length * self.breadth\n",
    " \n",
    "    def getArea(self):\n",
    "        return str(self.area()) + \" \" + self.units + \"^2\"\n",
    "       \n",
    "    def perimeter(self):\n",
    "        return 2 * (self.length + self.breadth)\n",
    "\n",
    "    def getPerimeter(self):\n",
    "        return str(self.perimeter()) + \" \" + self.units\n",
    "\n",
    "    def getUnits(self):\n",
    "        return self.units\n",
    "    \n",
    "    def setUnits(self,units):\n",
    "        self.units = units"
   ]
  },
  {
   "cell_type": "code",
   "execution_count": 96,
   "id": "3864f568",
   "metadata": {},
   "outputs": [],
   "source": [
    "class Square(Polygon):\n",
    "    def __init__(self,side,units=\"units\"):\n",
    "        self.name = \"Square\"\n",
    "        self.units = units\n",
    "        self.dimensions = 2\n",
    "        self.side = side\n",
    "    \n",
    "    def area(self):\n",
    "        return self.side * self.side\n",
    "    \n",
    "    def getArea(self):\n",
    "        return str(self.area()) + \" \" + self.units + \"^2\"\n",
    "    \n",
    "    def perimeter(self):\n",
    "        return 4 * (self.side)\n",
    "\n",
    "    def getPerimeter(self):\n",
    "        return str(self.perimeter()) + \" \" + self.units\n",
    "\n",
    "    def getUnits(self):\n",
    "        return self.units\n",
    "    \n",
    "    def setUnits(self,units):\n",
    "        self.units = units"
   ]
  },
  {
   "cell_type": "code",
   "execution_count": 97,
   "id": "79d8769e",
   "metadata": {},
   "outputs": [],
   "source": [
    "rect = Rectangle(10,5,\"cm\")"
   ]
  },
  {
   "cell_type": "code",
   "execution_count": 98,
   "id": "34e73335",
   "metadata": {},
   "outputs": [
    {
     "name": "stdout",
     "output_type": "stream",
     "text": [
      "Area of rectangle = 50 cm^2\n"
     ]
    }
   ],
   "source": [
    "print(f\"Area of rectangle = {rect.area()} {rect.getUnits()}^2\")"
   ]
  },
  {
   "cell_type": "code",
   "execution_count": 99,
   "id": "858f72a4",
   "metadata": {},
   "outputs": [
    {
     "name": "stdout",
     "output_type": "stream",
     "text": [
      "Perimeter of rectangle = 30 cm\n"
     ]
    }
   ],
   "source": [
    "print(f'Perimeter of rectangle = {rect.perimeter()} {rect.getUnits()}')"
   ]
  },
  {
   "cell_type": "code",
   "execution_count": 100,
   "id": "0c6339ec",
   "metadata": {},
   "outputs": [
    {
     "name": "stdout",
     "output_type": "stream",
     "text": [
      "Number of dimensions = 2\n"
     ]
    }
   ],
   "source": [
    "print(f'Number of dimensions = {rect.reportDimension()}')"
   ]
  },
  {
   "cell_type": "code",
   "execution_count": 101,
   "id": "2284aa9e",
   "metadata": {},
   "outputs": [],
   "source": [
    "rect.changeDimension(3)"
   ]
  },
  {
   "cell_type": "code",
   "execution_count": 102,
   "id": "2681908a",
   "metadata": {
    "scrolled": false
   },
   "outputs": [
    {
     "name": "stdout",
     "output_type": "stream",
     "text": [
      "Updated Number of dimensions = 3\n"
     ]
    }
   ],
   "source": [
    "print(f'Updated Number of dimensions = {rect.reportDimension()}')"
   ]
  },
  {
   "cell_type": "code",
   "execution_count": 103,
   "id": "3324c5e2",
   "metadata": {},
   "outputs": [],
   "source": [
    "square = Square(25,\"cm\")"
   ]
  },
  {
   "cell_type": "code",
   "execution_count": 104,
   "id": "fb3c3d84",
   "metadata": {},
   "outputs": [
    {
     "name": "stdout",
     "output_type": "stream",
     "text": [
      "Area of Square = 625 cm^2\n"
     ]
    }
   ],
   "source": [
    "print(f'Area of Square = {square.area()} {square.getUnits()}^2')"
   ]
  },
  {
   "cell_type": "code",
   "execution_count": 105,
   "id": "d2e18219",
   "metadata": {},
   "outputs": [
    {
     "name": "stdout",
     "output_type": "stream",
     "text": [
      "Perimeter of Square = 100 cm\n"
     ]
    }
   ],
   "source": [
    "print(f'Perimeter of Square = {square.perimeter()} {square.getUnits()}')"
   ]
  },
  {
   "cell_type": "code",
   "execution_count": null,
   "id": "89425ebb",
   "metadata": {},
   "outputs": [],
   "source": []
  },
  {
   "cell_type": "code",
   "execution_count": 106,
   "id": "d4616336",
   "metadata": {},
   "outputs": [
    {
     "name": "stdout",
     "output_type": "stream",
     "text": [
      "150 cm^2\n",
      "35 units^2\n",
      "50 cm\n",
      "24 units\n"
     ]
    }
   ],
   "source": [
    "# Code to test above Classes\n",
    "\n",
    "r1 = Rectangle(10,15, \"cm\")\n",
    "r2 = Rectangle(5,7)\n",
    "\n",
    "print(r1.getArea())\n",
    "print(r2.getArea())\n",
    "print(r1.getPerimeter())\n",
    "print(r2.getPerimeter())\n"
   ]
  },
  {
   "cell_type": "code",
   "execution_count": 108,
   "id": "393eee6f",
   "metadata": {},
   "outputs": [
    {
     "name": "stdout",
     "output_type": "stream",
     "text": [
      "25 m^2\n",
      "225 units^2\n",
      "20 m\n",
      "60 units\n"
     ]
    }
   ],
   "source": [
    "s1 = Square(5,\"m\")\n",
    "s2 = Square(15)\n",
    "\n",
    "print(s1.getArea())\n",
    "print(s2.getArea())\n",
    "print(s1.getPerimeter())\n",
    "print(s2.getPerimeter())\n"
   ]
  },
  {
   "cell_type": "code",
   "execution_count": null,
   "id": "05415ee1",
   "metadata": {},
   "outputs": [],
   "source": []
  },
  {
   "cell_type": "code",
   "execution_count": null,
   "id": "56eab339",
   "metadata": {},
   "outputs": [],
   "source": []
  },
  {
   "cell_type": "code",
   "execution_count": null,
   "id": "b8328948",
   "metadata": {},
   "outputs": [],
   "source": []
  },
  {
   "cell_type": "code",
   "execution_count": null,
   "id": "dfdd73d5",
   "metadata": {},
   "outputs": [],
   "source": []
  },
  {
   "cell_type": "code",
   "execution_count": null,
   "id": "37be0ce1",
   "metadata": {},
   "outputs": [],
   "source": []
  }
 ],
 "metadata": {
  "kernelspec": {
   "display_name": "Python 3 (ipykernel)",
   "language": "python",
   "name": "python3"
  },
  "language_info": {
   "codemirror_mode": {
    "name": "ipython",
    "version": 3
   },
   "file_extension": ".py",
   "mimetype": "text/x-python",
   "name": "python",
   "nbconvert_exporter": "python",
   "pygments_lexer": "ipython3",
   "version": "3.9.13"
  }
 },
 "nbformat": 4,
 "nbformat_minor": 5
}
