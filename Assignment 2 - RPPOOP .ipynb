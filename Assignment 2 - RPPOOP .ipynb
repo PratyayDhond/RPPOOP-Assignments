{
 "cells": [
  {
   "cell_type": "code",
   "execution_count": 1,
   "id": "ffd54f45",
   "metadata": {},
   "outputs": [],
   "source": [
    "# Demonstration of polymorphism and types of polymorphisms with taking suitable example"
   ]
  },
  {
   "cell_type": "markdown",
   "id": "f1fd6414",
   "metadata": {},
   "source": [
    "#### Polymorphism in non-class methods"
   ]
  },
  {
   "cell_type": "code",
   "execution_count": 12,
   "id": "0df54df8",
   "metadata": {},
   "outputs": [],
   "source": [
    "def fullName(firstName, lastName, middleName = \"\"):\n",
    "    return firstName + ' ' + middleName + ' ' + lastName;\n"
   ]
  },
  {
   "cell_type": "code",
   "execution_count": 16,
   "id": "f9d00c78",
   "metadata": {},
   "outputs": [
    {
     "name": "stdout",
     "output_type": "stream",
     "text": [
      "Pratyay Prasad Dhond\n",
      "Pratyay  Dhond\n"
     ]
    }
   ],
   "source": [
    "print(fullName(firstName = 'Pratyay', lastName = 'Dhond', middleName = 'Prasad'))\n",
    "print(fullName('Pratyay', 'Dhond'))"
   ]
  },
  {
   "cell_type": "code",
   "execution_count": 28,
   "id": "f805c65b",
   "metadata": {},
   "outputs": [],
   "source": [
    "class Animal:\n",
    "    def __init__(self, name, sound):\n",
    "        self.name = name\n",
    "        self.sound = sound\n",
    "    \n",
    "    def makeSound(self):\n",
    "        pass\n",
    "\n",
    "class Cat(Animal):\n",
    "    def __init__(self,name,sound):\n",
    "        self.petName = name\n",
    "        super().__init__('Cat',sound)\n",
    "    def makeSound(self):\n",
    "        print(f' {self.petName} {self.sound}!')\n",
    "\n",
    "class Dog(Animal):\n",
    "    def __init__(self,name,sound):\n",
    "        self.petName = name\n",
    "        super().__init__('Dog',sound)\n",
    "    def makeSound(self):\n",
    "        print(f' {self.petName} makes sound \\'{self.sound}\\'!')\n"
   ]
  },
  {
   "cell_type": "code",
   "execution_count": 29,
   "id": "888dd06a",
   "metadata": {},
   "outputs": [
    {
     "name": "stdout",
     "output_type": "stream",
     "text": [
      " Rover makes sound 'woof'!\n"
     ]
    }
   ],
   "source": [
    "rover = Dog('Rover', 'woof')\n",
    "rover.makeSound()"
   ]
  },
  {
   "cell_type": "code",
   "execution_count": 30,
   "id": "54df860c",
   "metadata": {},
   "outputs": [
    {
     "name": "stdout",
     "output_type": "stream",
     "text": [
      " Meowscles purrs!\n"
     ]
    }
   ],
   "source": [
    "meowscles = Cat('Meowscles', 'purrs')\n",
    "meowscles.makeSound()"
   ]
  },
  {
   "cell_type": "code",
   "execution_count": null,
   "id": "3f0f93a2",
   "metadata": {},
   "outputs": [],
   "source": []
  }
 ],
 "metadata": {
  "kernelspec": {
   "display_name": "Python 3 (ipykernel)",
   "language": "python",
   "name": "python3"
  },
  "language_info": {
   "codemirror_mode": {
    "name": "ipython",
    "version": 3
   },
   "file_extension": ".py",
   "mimetype": "text/x-python",
   "name": "python",
   "nbconvert_exporter": "python",
   "pygments_lexer": "ipython3",
   "version": "3.9.13"
  }
 },
 "nbformat": 4,
 "nbformat_minor": 5
}
